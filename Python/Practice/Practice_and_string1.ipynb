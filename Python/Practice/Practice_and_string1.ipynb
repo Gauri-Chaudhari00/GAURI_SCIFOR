{
  "nbformat": 4,
  "nbformat_minor": 0,
  "metadata": {
    "colab": {
      "provenance": []
    },
    "kernelspec": {
      "name": "python3",
      "display_name": "Python 3"
    },
    "language_info": {
      "name": "python"
    }
  },
  "cells": [
    {
      "cell_type": "code",
      "execution_count": 1,
      "metadata": {
        "colab": {
          "base_uri": "https://localhost:8080/"
        },
        "id": "fcAcQCwMEw9L",
        "outputId": "ad34b405-f781-4c01-9ee8-a707fb83c402"
      },
      "outputs": [
        {
          "output_type": "stream",
          "name": "stdout",
          "text": [
            "hello world\n"
          ]
        }
      ],
      "source": [
        "print(\"hello world\")"
      ]
    },
    {
      "cell_type": "code",
      "source": [
        "a=25\n",
        "c=a*a\n",
        "print(c)"
      ],
      "metadata": {
        "colab": {
          "base_uri": "https://localhost:8080/"
        },
        "id": "ggMVQ4GfE6Lc",
        "outputId": "b1a38152-51d3-4785-86a5-38bf086edddd"
      },
      "execution_count": 2,
      "outputs": [
        {
          "output_type": "stream",
          "name": "stdout",
          "text": [
            "625\n"
          ]
        }
      ]
    },
    {
      "cell_type": "code",
      "source": [
        "def reverse_number(n):\n",
        "    reversed_num = 0\n",
        "    while n > 0:\n",
        "        digit = n % 10\n",
        "        reversed_num = reversed_num * 10 + digit\n",
        "        n = n // 10\n",
        "    return reversed_num\n",
        "\n",
        "def main():\n",
        "    try:\n",
        "        num = int(input(\"Enter a number to reverse: \"))\n",
        "        print(\"Reversed number is:\", reverse_number(num))\n",
        "    except ValueError:\n",
        "        print(\"Please enter a valid integer.\")\n",
        "\n",
        "if __name__ == \"__main__\":\n",
        "    main()\n"
      ],
      "metadata": {
        "colab": {
          "base_uri": "https://localhost:8080/"
        },
        "id": "-qeby_FUGkMM",
        "outputId": "224ccbf2-e611-4a8c-9d51-88c005f9c595"
      },
      "execution_count": 2,
      "outputs": [
        {
          "output_type": "stream",
          "name": "stdout",
          "text": [
            "Enter a number to reverse: 12345\n",
            "Reversed number is: 54321\n"
          ]
        }
      ]
    },
    {
      "cell_type": "code",
      "source": [
        "#string manipulation (3 types of indentation can be used (single,double,and triple))\n",
        "p=(\"gauri\")\n",
        "q=('Gauri')\n",
        "r=('''GAURI''')\n",
        "s=(\"\"\"GAuri\"\"\")\n",
        "\n",
        "print(p,q,r,s)"
      ],
      "metadata": {
        "colab": {
          "base_uri": "https://localhost:8080/"
        },
        "id": "EJ-JHr5mIqaY",
        "outputId": "01b996f2-7957-401c-cb6d-381d72feec6e"
      },
      "execution_count": 11,
      "outputs": [
        {
          "output_type": "stream",
          "name": "stdout",
          "text": [
            "gauri Gauri GAURI GAuri\n"
          ]
        }
      ]
    },
    {
      "cell_type": "code",
      "source": [
        "p=(\"gauri\")\n",
        "q=('Gauri')\n",
        "r=('''GAURI''')\n",
        "s=(\"\"\"GAuri\"\"\")\n",
        "t=(\"GAUri\")\n",
        "\n",
        "# shows the array indexting(the space that array aquire) and its value\n",
        "p [0]\n",
        "q [1]\n",
        "r [2]\n",
        "s [3]\n",
        "t [4]\n",
        "print(p [0],q [1],r [2],s [3],t [4])\n",
        "print(p,q,r,s)\n",
        "# shows the type if its array or not\n",
        "type(p)\n",
        "type(q)\n",
        "type(r)\n",
        "type(s)\n",
        "type(t)\n",
        "\n",
        "print(type(p),type(q),type(r),type(s),type(t))"
      ],
      "metadata": {
        "colab": {
          "base_uri": "https://localhost:8080/"
        },
        "id": "5w9zBJ2OB9cj",
        "outputId": "ff4286aa-9ee4-4792-db96-08cbbbeea14c"
      },
      "execution_count": 27,
      "outputs": [
        {
          "output_type": "stream",
          "name": "stdout",
          "text": [
            "g a U r i\n",
            "gauri Gauri GAURI GAuri\n",
            "<class 'str'> <class 'str'> <class 'str'> <class 'str'> <class 'str'>\n"
          ]
        }
      ]
    },
    {
      "cell_type": "code",
      "source": [
        "# string is a immutable datatype\n",
        "a=\"meta\"\n",
        "b='scifor'\n",
        "#a[m]  (<- the data cannot be change due to the string property)\n",
        "print(a)\n",
        "a=\"scifor\" # took the different memory location\n",
        "print(a)\n",
        "#string upword direction(0 to n) and backword direction(-1 to n)\n",
        "c= \"bird\"\n",
        "c[-1]\n",
        "c[1]\n",
        "#print(c)\n"
      ],
      "metadata": {
        "colab": {
          "base_uri": "https://localhost:8080/",
          "height": 70
        },
        "id": "MblrnRBLG6x2",
        "outputId": "90725d15-6749-4075-80cb-bf49d9448062"
      },
      "execution_count": 48,
      "outputs": [
        {
          "output_type": "stream",
          "name": "stdout",
          "text": [
            "meta\n",
            "scifor\n"
          ]
        },
        {
          "output_type": "execute_result",
          "data": {
            "text/plain": [
              "'i'"
            ],
            "application/vnd.google.colaboratory.intrinsic+json": {
              "type": "string"
            }
          },
          "metadata": {},
          "execution_count": 48
        }
      ]
    },
    {
      "cell_type": "code",
      "source": [
        "#concatination\n",
        "a=\"Good\"\n",
        "b=\"Evening!\"\n",
        "c=a+b\n",
        "print(a,b,c)\n",
        "\n",
        "#Repetition\n",
        "d= \"Hello\"\n",
        "p= d*123\n",
        "print(p)"
      ],
      "metadata": {
        "colab": {
          "base_uri": "https://localhost:8080/"
        },
        "id": "QqszibtNK2JY",
        "outputId": "2c659da4-51a6-4f55-ad03-4fe3530ef7ec"
      },
      "execution_count": 70,
      "outputs": [
        {
          "output_type": "stream",
          "name": "stdout",
          "text": [
            "Good Evening! GoodEvening!\n",
            "HelloHelloHelloHelloHelloHelloHelloHelloHelloHelloHelloHelloHelloHelloHelloHelloHelloHelloHelloHelloHelloHelloHelloHelloHelloHelloHelloHelloHelloHelloHelloHelloHelloHelloHelloHelloHelloHelloHelloHelloHelloHelloHelloHelloHelloHelloHelloHelloHelloHelloHelloHelloHelloHelloHelloHelloHelloHelloHelloHelloHelloHelloHelloHelloHelloHelloHelloHelloHelloHelloHelloHelloHelloHelloHelloHelloHelloHelloHelloHelloHelloHelloHelloHelloHelloHelloHelloHelloHelloHelloHelloHelloHelloHelloHelloHelloHelloHelloHelloHelloHelloHelloHelloHelloHelloHelloHelloHelloHelloHelloHelloHelloHelloHelloHelloHelloHelloHelloHelloHelloHelloHelloHello\n"
          ]
        }
      ]
    },
    {
      "cell_type": "code",
      "source": [
        "# membership operator\n",
        "'p' in 'pink'\n",
        "#'r' in 'pink'\n"
      ],
      "metadata": {
        "colab": {
          "base_uri": "https://localhost:8080/"
        },
        "id": "wev5P813z_3w",
        "outputId": "b01bed70-714f-440f-f75c-93973a1ccb25"
      },
      "execution_count": 77,
      "outputs": [
        {
          "output_type": "execute_result",
          "data": {
            "text/plain": [
              "False"
            ]
          },
          "metadata": {},
          "execution_count": 77
        }
      ]
    },
    {
      "cell_type": "code",
      "source": [
        "#Slicing method\n",
        "# syntax:     str[start:stop:step]\n",
        "str= \"welcome\"\n",
        "for i in range(len(str)):\n",
        "  print(i,\":\",str[i])\n",
        "\n",
        "\n",
        "str[1:6] # slicing method\n",
        "\n",
        "\n"
      ],
      "metadata": {
        "colab": {
          "base_uri": "https://localhost:8080/",
          "height": 157
        },
        "id": "eTLSdfXY59UT",
        "outputId": "cb0b0cee-2eba-4622-ba3c-9296d2bac6f3"
      },
      "execution_count": 6,
      "outputs": [
        {
          "output_type": "stream",
          "name": "stdout",
          "text": [
            "0 : w\n",
            "1 : e\n",
            "2 : l\n",
            "3 : c\n",
            "4 : o\n",
            "5 : m\n",
            "6 : e\n"
          ]
        },
        {
          "output_type": "execute_result",
          "data": {
            "text/plain": [
              "'elcom'"
            ],
            "application/vnd.google.colaboratory.intrinsic+json": {
              "type": "string"
            }
          },
          "metadata": {},
          "execution_count": 6
        }
      ]
    }
  ]
}
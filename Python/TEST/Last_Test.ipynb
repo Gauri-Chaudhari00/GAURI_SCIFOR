{
  "nbformat": 4,
  "nbformat_minor": 0,
  "metadata": {
    "colab": {
      "provenance": []
    },
    "kernelspec": {
      "name": "python3",
      "display_name": "Python 3"
    },
    "language_info": {
      "name": "python"
    }
  },
  "cells": [
    {
      "cell_type": "code",
      "execution_count": 2,
      "metadata": {
        "colab": {
          "base_uri": "https://localhost:8080/"
        },
        "id": "cBMlx6tXGiK9",
        "outputId": "70079a16-7c9d-4f11-9946-6a8d01e8beaf"
      },
      "outputs": [
        {
          "output_type": "stream",
          "name": "stdout",
          "text": [
            "Creating an Electronics Item:\n",
            "Enter title: Phone charger\n",
            "Enter price: 200\n",
            "Enter warehouse location: abc\n",
            "Enter category: vivo\n",
            "Enter type: c type\n",
            "Enter warranty period: 1 year\n",
            "Title: Phone charger, Price: 200\n",
            "Warehouse Location: abc\n",
            "Category: vivo, Type: c type\n",
            "Warranty: 1 year\n",
            "\n",
            "Creating a Furniture Item:\n",
            "Enter title: table\n",
            "Enter price: 2700\n",
            "Enter material: wood\n",
            "Title: table, Price: 2700\n",
            "Material: wood\n",
            "\n",
            "Creating a Hybrid Product:\n",
            "Enter title: photo frames\n",
            "Enter price: 300\n",
            "Enter warehouse location: xyz\n",
            "Enter category: plastic\n",
            "Enter type: square\n",
            "Enter warranty period: 1 year\n",
            "Enter title: Plastic photo frame\n",
            "Enter price: 300\n",
            "Enter sales figures (space-separated): 3000\n",
            "Enter brand: any\n",
            "Title: Plastic photo frame, Price: 300\n",
            "Warehouse Location: xyz\n",
            "Category: plastic, Type: square\n",
            "Warranty: 1 year\n",
            "Title: Plastic photo frame, Price: 300\n",
            "Sales Figures: [3000]\n",
            "Brand: any\n"
          ]
        }
      ],
      "source": [
        "# Write a code in python to show all levels of inheritance\n",
        "class Product:\n",
        "    def __init__(self):\n",
        "        self.__title = input(\"Enter title: \")\n",
        "        self.__price = input(\"Enter price: \")\n",
        "\n",
        "    def display_data(self):\n",
        "        print(f\"Title: {self.__title}, Price: {self.__price}\")\n",
        "\n",
        "# Single Inheritance\n",
        "class Sales(Product):\n",
        "    def __init__(self):\n",
        "        super().__init__()\n",
        "        self.__sales_figures = [int(x) for x in input(\"Enter sales figures (space-separated): \").split()]\n",
        "\n",
        "    def display_data(self):\n",
        "        super().display_data()\n",
        "        print(f\"Sales Figures: {self.__sales_figures}\")\n",
        "\n",
        "# Multiple Inheritance\n",
        "class Warehouse:\n",
        "    def __init__(self):\n",
        "        self.__location = input(\"Enter warehouse location: \")\n",
        "\n",
        "    def display_data(self):\n",
        "        print(f\"Warehouse Location: {self.__location}\")\n",
        "\n",
        "class Item(Product, Warehouse):\n",
        "    def __init__(self):\n",
        "        Product.__init__(self)\n",
        "        Warehouse.__init__(self)\n",
        "        self.__category = input(\"Enter category: \")\n",
        "        self.__type = input(\"Enter type: \")\n",
        "\n",
        "    def display_data(self):\n",
        "        Product.display_data(self)\n",
        "        Warehouse.display_data(self)\n",
        "        print(f\"Category: {self.__category}, Type: {self.__type}\")\n",
        "\n",
        "# Multilevel Inheritance\n",
        "class Electronics(Item):\n",
        "    def __init__(self):\n",
        "        super().__init__()\n",
        "        self.__warranty = input(\"Enter warranty period: \")\n",
        "\n",
        "    def display_data(self):\n",
        "        super().display_data()\n",
        "        print(f\"Warranty: {self.__warranty}\")\n",
        "\n",
        "# Hierarchical Inheritance\n",
        "class Furniture(Product):\n",
        "    def __init__(self):\n",
        "        super().__init__()\n",
        "        self.__material = input(\"Enter material: \")\n",
        "\n",
        "    def display_data(self):\n",
        "        super().display_data()\n",
        "        print(f\"Material: {self.__material}\")\n",
        "\n",
        "# Hybrid Inheritance combines Multiple, Multilevel, and Hierarchical Inheritance\n",
        "class HybridProduct(Electronics, Sales):\n",
        "    def __init__(self):\n",
        "        Electronics.__init__(self)\n",
        "        Sales.__init__(self)\n",
        "        self.__brand = input(\"Enter brand: \")\n",
        "\n",
        "    def display_data(self):\n",
        "        Electronics.display_data(self)\n",
        "        Sales.display_data(self)\n",
        "        print(f\"Brand: {self.__brand}\")\n",
        "\n",
        "\n",
        "print(\"Creating an Electronics Item:\")\n",
        "E1 = Electronics()\n",
        "E1.display_data()\n",
        "\n",
        "print(\"\\nCreating a Furniture Item:\")\n",
        "F1 = Furniture()\n",
        "F1.display_data()\n",
        "\n",
        "print(\"\\nCreating a Hybrid Product:\")\n",
        "H1 = HybridProduct()\n",
        "H1.display_data()\n"
      ]
    },
    {
      "cell_type": "code",
      "source": [
        "#Write a code of Method Overloading\n",
        "# in python method overloading does not support like c++ or java\n",
        "class Addition:\n",
        "\n",
        "    def add(self, x, y):\n",
        "\n",
        "      print(\"x + y = {}\".format(x + y))\n",
        "\n",
        "    def add(self, x, y, z):\n",
        "\n",
        "      print(“x + y + z = {}”.format(x + y + z))\n",
        "\n",
        "zz = Addition()\n",
        "\n",
        "zz.add(4, 2, 3)\n",
        "\n",
        "zz.add(4,2)"
      ],
      "metadata": {
        "colab": {
          "base_uri": "https://localhost:8080/",
          "height": 106
        },
        "id": "IlaJhl14Ubgl",
        "outputId": "7bea5895-4aed-421b-970b-b4b7212830f6"
      },
      "execution_count": 6,
      "outputs": [
        {
          "output_type": "error",
          "ename": "SyntaxError",
          "evalue": "invalid character '“' (U+201C) (<ipython-input-6-10a6d1fcb211>, line 10)",
          "traceback": [
            "\u001b[0;36m  File \u001b[0;32m\"<ipython-input-6-10a6d1fcb211>\"\u001b[0;36m, line \u001b[0;32m10\u001b[0m\n\u001b[0;31m    print(“x + y + z = {}”.format(x + y + z))\u001b[0m\n\u001b[0m          ^\u001b[0m\n\u001b[0;31mSyntaxError\u001b[0m\u001b[0;31m:\u001b[0m invalid character '“' (U+201C)\n"
          ]
        }
      ]
    },
    {
      "cell_type": "code",
      "source": [
        "#Write a code of Method Overriding\n",
        "class Calculation:\n",
        "    def calc(self, a, b):\n",
        "        pass\n",
        "\n",
        "class Addition(Calculation):\n",
        "    def calc(self, a, b):\n",
        "        s = a + b\n",
        "        print(\"Sum: \", s)\n",
        "\n",
        "class Subtraction(Calculation):\n",
        "    def calc(self, a, b):\n",
        "        s = a - b\n",
        "        print(\"Sub: \", s)\n",
        "\n",
        "class Multiplication(Calculation):\n",
        "    def calc(self, a, b):\n",
        "        m = a * b\n",
        "        print(\"Multiply: \", m)\n",
        "\n",
        "obj1 = Addition()\n",
        "obj2 = Subtraction()\n",
        "obj3 = Multiplication()\n",
        "obj1.calc(20, 30)\n",
        "obj2.calc(40, 10)\n",
        "obj3.calc(10, 20)"
      ],
      "metadata": {
        "colab": {
          "base_uri": "https://localhost:8080/"
        },
        "id": "OSproHTwXbjd",
        "outputId": "4f2d9e97-f5bc-459a-92a2-3da4070ee325"
      },
      "execution_count": 7,
      "outputs": [
        {
          "output_type": "stream",
          "name": "stdout",
          "text": [
            "Sum:  50\n",
            "Sub:  30\n",
            "Multiply:  200\n"
          ]
        }
      ]
    }
  ]
}
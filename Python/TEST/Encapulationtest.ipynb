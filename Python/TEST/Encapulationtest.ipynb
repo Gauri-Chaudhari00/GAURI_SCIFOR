{
  "nbformat": 4,
  "nbformat_minor": 0,
  "metadata": {
    "colab": {
      "provenance": []
    },
    "kernelspec": {
      "name": "python3",
      "display_name": "Python 3"
    },
    "language_info": {
      "name": "python"
    }
  },
  "cells": [
    {
      "cell_type": "code",
      "source": [
        "\"\"\"\n",
        "Question:- Write a documentation in python which have encapsulation basics, real life example, and implementation\n",
        "Answer:-  Encapsulation is one of the fundamental principles of object-oriented programming (OOP).\n",
        "         It refers to the bundling of data (attributes) and methods (functions) that operate on the data into a single unit,\n",
        "          typically a class.\n",
        "          Encapsulation is achieved through the use of access modifiers and getter and setter methods.\n",
        "\t\t      Encapsulation also involves restricting direct access to some of the object's components,\n",
        "\t\t      which is a means of preventing unintended interference and misuse of the data.\n",
        "          Encapsulation is, literally, creating a capsule and so think\n",
        "          of creating a time capsule. If you put a bunch of information into a time capsule,\n",
        "          lock and bury it, it is both encapsulated and the information is hidden\n",
        "\n",
        "  \"\"\"\n",
        ""
      ],
      "metadata": {
        "id": "8iv9FMtWVk_g"
      },
      "execution_count": null,
      "outputs": []
    },
    {
      "cell_type": "code",
      "source": [
        "# Encapulation Realtime example\n",
        "\n",
        "class Student:\n",
        "   def __init__(self, name, age):\n",
        "       self.__name = name\n",
        "       self.__age = age\n",
        "   def get_name(self):\n",
        "       return self.__name\n",
        "\n",
        "   def set_name(self, name):\n",
        "       self.__name = name\n",
        "\n",
        "   def get_age(self):\n",
        "       return self.__age\n",
        "\n",
        "   def set_age(self, age):\n",
        "       if age >= 0:\n",
        "           self.__age = age\n",
        "       else:\n",
        "           print(\"Try next time\")\n",
        "\n",
        "student1 = Student(\"Meera\", 20 )\n",
        "\n",
        "\n",
        "print(\"Student's name:\", student1.get_name())\n",
        "print(\"Student's age:\", student1.get_age())\n",
        "\n",
        "\n",
        "student1.set_name(\"Raju\")\n",
        "student1.set_age(22)\n",
        "print(\"Updated student's name:\", student1.get_name())\n",
        "print(\"Updated student's age:\", student1.get_age())\n",
        "\n"
      ],
      "metadata": {
        "colab": {
          "base_uri": "https://localhost:8080/"
        },
        "id": "EDosJnSUYoTg",
        "outputId": "8c940f30-670f-4357-d374-21ddff757113"
      },
      "execution_count": 31,
      "outputs": [
        {
          "output_type": "stream",
          "name": "stdout",
          "text": [
            "Student's name: Meera\n",
            "Student's age: 20\n",
            "Updated student's name: Raju\n",
            "Updated student's age: 22\n"
          ]
        }
      ]
    }
  ]
}
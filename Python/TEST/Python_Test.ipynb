{
  "nbformat": 4,
  "nbformat_minor": 0,
  "metadata": {
    "colab": {
      "provenance": []
    },
    "kernelspec": {
      "name": "python3",
      "display_name": "Python 3"
    },
    "language_info": {
      "name": "python"
    }
  },
  "cells": [
    {
      "cell_type": "code",
      "execution_count": 12,
      "metadata": {
        "id": "A31FWeJ87gOh"
      },
      "outputs": [],
      "source": [
        "# Encapsulation Example\n",
        "class Car:\n",
        "    def __init__(self, brand):\n",
        "        self.brand = brand\n",
        "\n",
        "    def drive(self):\n",
        "        return f\"Driving {self.brand}\"\n",
        "\n"
      ]
    },
    {
      "cell_type": "code",
      "source": [
        "# Polymorphism Example\n",
        "class Animal:\n",
        "    def sound(self):\n",
        "        pass\n",
        "\n",
        "class Dog(Animal):\n",
        "    def sound(self):\n",
        "        return \"Woof\"\n",
        "\n",
        "class Cat(Animal):\n",
        "    def sound(self):\n",
        "        return \"Meow\"\n",
        "\n",
        "dog = Dog()\n",
        "cat = Cat()\n",
        "\n",
        "print(\"Dog says:\", dog.sound())\n",
        "print(\"Cat says:\", cat.sound())\n",
        "\n"
      ],
      "metadata": {
        "id": "MD91s4SD73GC"
      },
      "execution_count": null,
      "outputs": []
    },
    {
      "cell_type": "code",
      "source": [
        " # Single Level Inheritance Example\n",
        " class Animal:\n",
        "    def sound(self):\n",
        "        print(\"Animal makes a sound.\")\n",
        "\n",
        "class Dog(Animal):\n",
        "    def sound(self):\n",
        "        print(\"Dog barks.\")\n",
        "\n",
        "my_dog = Dog()\n",
        "my_dog.sound()"
      ],
      "metadata": {
        "colab": {
          "base_uri": "https://localhost:8080/"
        },
        "id": "P5Q1eibQ8AOX",
        "outputId": "7b56e83c-2998-4e49-98e6-02a5806e2800"
      },
      "execution_count": 13,
      "outputs": [
        {
          "output_type": "stream",
          "name": "stdout",
          "text": [
            "Dog barks.\n"
          ]
        }
      ]
    },
    {
      "cell_type": "code",
      "source": [
        "#conditional statements(odd or even)\n",
        "number = int(input(\"Enter a number: \"))\n",
        "\n",
        "if number % 2 == 0:\n",
        "    print(f\"The number {number} is even.\")\n",
        "else:\n",
        "    print(f\"The number {number} is odd.\")\n",
        "\n"
      ],
      "metadata": {
        "colab": {
          "base_uri": "https://localhost:8080/"
        },
        "id": "TFBRE494DJbw",
        "outputId": "0569685f-19ff-496d-c716-5eb38f4d1dba"
      },
      "execution_count": 5,
      "outputs": [
        {
          "output_type": "stream",
          "name": "stdout",
          "text": [
            "Enter a number: 2\n",
            "The number 2 is even.\n"
          ]
        }
      ]
    },
    {
      "cell_type": "code",
      "source": [
        "#factorial\n",
        "num = int(input(\"Enter a number: \"))\n",
        "factorial = 1\n",
        "if num < 0:\n",
        "   print(\" Factorial does not exist for negative numbers\")\n",
        "elif num == 0:\n",
        "   print(\"The factorial of 0 is 1\")\n",
        "else:\n",
        "   for i in range(1,num + 1):\n",
        "       factorial = factorial*i\n",
        "   print(\"The factorial of\",num,\"is\",factorial)"
      ],
      "metadata": {
        "colab": {
          "base_uri": "https://localhost:8080/"
        },
        "id": "nAvtsdKtIyOf",
        "outputId": "a33e9ef1-e086-4329-d4ae-5ea20e115c58"
      },
      "execution_count": 7,
      "outputs": [
        {
          "output_type": "stream",
          "name": "stdout",
          "text": [
            "Enter a number: 3\n",
            "The factorial of 3 is 6\n"
          ]
        }
      ]
    },
    {
      "cell_type": "code",
      "source": [
        "#Functions\n",
        "def my_name():\n",
        "  print(\"Good Evening\")\n",
        "\n",
        "my_name()"
      ],
      "metadata": {
        "colab": {
          "base_uri": "https://localhost:8080/"
        },
        "id": "bE1yMzsTKJQ2",
        "outputId": "ac8817cd-4234-48eb-87f1-62edf228ef06"
      },
      "execution_count": 10,
      "outputs": [
        {
          "output_type": "stream",
          "name": "stdout",
          "text": [
            "Good Evening\n"
          ]
        }
      ]
    }
  ]
}
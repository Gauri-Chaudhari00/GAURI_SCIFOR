{
  "nbformat": 4,
  "nbformat_minor": 0,
  "metadata": {
    "colab": {
      "provenance": []
    },
    "kernelspec": {
      "name": "python3",
      "display_name": "Python 3"
    },
    "language_info": {
      "name": "python"
    }
  },
  "cells": [
    {
      "cell_type": "code",
      "execution_count": 4,
      "metadata": {
        "colab": {
          "base_uri": "https://localhost:8080/"
        },
        "id": "to_bfMmemsqw",
        "outputId": "a9323242-fe31-4b9a-b926-acca01abeb30"
      },
      "outputs": [
        {
          "output_type": "stream",
          "name": "stdout",
          "text": [
            "GoodEvening!\n"
          ]
        }
      ],
      "source": [
        "#Concatenation example 1\n",
        "a=\"Good\"\n",
        "b=\"Evening!\"\n",
        "c=a+b\n",
        "print(c)\n",
        "\n"
      ]
    },
    {
      "cell_type": "code",
      "source": [
        "#slicing Example\n",
        "s1 = \"Beautiful day!\"\n",
        "slice1 = s1[0:9]   # Extracts \"Hello\"\n",
        "slice2 = s1[10:]    # Extracts \"World!\"\n",
        "print(slice1)  # Output: Hello\n",
        "print(slice2)  # Output: World!\n"
      ],
      "metadata": {
        "colab": {
          "base_uri": "https://localhost:8080/"
        },
        "id": "aMdxbbg-o65q",
        "outputId": "97a60541-7bb8-47f1-b46f-e0b5d53bd8c8"
      },
      "execution_count": 3,
      "outputs": [
        {
          "output_type": "stream",
          "name": "stdout",
          "text": [
            "Beautiful\n",
            "day!\n"
          ]
        }
      ]
    },
    {
      "cell_type": "code",
      "source": [
        "#Replacing\n",
        "p1=\"python is a language\"\n",
        "result=p1.replace(\"python is a language\",\"and its created by Guido van Rossum\")\n",
        "print(p1)\n",
        "print(result)"
      ],
      "metadata": {
        "colab": {
          "base_uri": "https://localhost:8080/"
        },
        "id": "0hYd2W33p_wC",
        "outputId": "54b2519d-90cd-4fda-faf1-87cebaa852c2"
      },
      "execution_count": 10,
      "outputs": [
        {
          "output_type": "stream",
          "name": "stdout",
          "text": [
            "python is a language\n",
            "and its created by Guido van Rossum\n"
          ]
        }
      ]
    },
    {
      "cell_type": "code",
      "source": [
        "#finding sub string\n",
        "s1=\" Guido van Rossum\"\n",
        "result1=s1.find(\"Guido\")\n",
        "result2=s1.find(\"Rossum\")\n",
        "print(result1,result2)"
      ],
      "metadata": {
        "colab": {
          "base_uri": "https://localhost:8080/"
        },
        "id": "b7fU94yksLeV",
        "outputId": "cb74efeb-f165-4683-a114-5dc0f1ed90c0"
      },
      "execution_count": 16,
      "outputs": [
        {
          "output_type": "stream",
          "name": "stdout",
          "text": [
            "1 11\n"
          ]
        }
      ]
    },
    {
      "cell_type": "code",
      "source": [
        "#Checking String Characteristics\n",
        "str1 = \"12345\"\n",
        "str2 = \"Python\"\n",
        "print(str1.isdigit())\n",
        "print(str2.isalpha())\n"
      ],
      "metadata": {
        "colab": {
          "base_uri": "https://localhost:8080/"
        },
        "id": "-PCsdj4KteCL",
        "outputId": "8fbb09f4-7526-4e0f-8fdb-f9581977fe32"
      },
      "execution_count": 17,
      "outputs": [
        {
          "output_type": "stream",
          "name": "stdout",
          "text": [
            "True\n",
            "True\n"
          ]
        }
      ]
    }
  ]
}
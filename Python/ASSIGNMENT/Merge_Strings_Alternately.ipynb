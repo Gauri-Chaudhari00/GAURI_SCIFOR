{
  "nbformat": 4,
  "nbformat_minor": 0,
  "metadata": {
    "colab": {
      "provenance": []
    },
    "kernelspec": {
      "name": "python3",
      "display_name": "Python 3"
    },
    "language_info": {
      "name": "python"
    }
  },
  "cells": [
    {
      "cell_type": "code",
      "source": [
        "#You are given two strings word1 and word2. Merge the strings by adding letters in alternating order,\n",
        "#starting with word1. If a string is longer than the other, append the additional letters onto the end of the merged string.\n",
        "class Solution(object):\n",
        "    def mergeAlternately(self, word1, word2):\n",
        "        \"\"\"\n",
        "        :type word1: str\n",
        "        :type word2: str\n",
        "        :rtype: str\n",
        "        \"\"\"\n",
        "        m, n = len(word1), len(word2)\n",
        "        ans = []\n",
        "        i = 0\n",
        "\n",
        "        # Merge characters alternately\n",
        "        while i < m and i < n:\n",
        "            ans.append(word1[i])\n",
        "            ans.append(word2[i])\n",
        "            i += 1\n",
        "\n",
        "        # Append any remaining characters from word1\n",
        "        if i < m:\n",
        "            ans.append(word1[i:])\n",
        "\n",
        "        # Append any remaining characters from word2\n",
        "        if i < n:\n",
        "            ans.append(word2[i:])\n",
        "\n",
        "        return ''.join(ans)\n",
        "\n",
        "# Example usage\n",
        "solution = Solution()\n",
        "print(solution.mergeAlternately(\"abc\", \"pqr\"))  # Output: \"apbqcr\"\n",
        "print(solution.mergeAlternately(\"ab\", \"pqrs\"))  # Output: \"apbqrs\"\n",
        "print(solution.mergeAlternately(\"abcd\", \"pq\"))  # Output: \"apbqcd\"\n"
      ],
      "metadata": {
        "colab": {
          "base_uri": "https://localhost:8080/"
        },
        "id": "HTLcFs_meU5-",
        "outputId": "db771e9f-d146-4270-b1b4-4ad973f1985f"
      },
      "execution_count": 9,
      "outputs": [
        {
          "output_type": "stream",
          "name": "stdout",
          "text": [
            "apbqcr\n",
            "apbqrs\n",
            "apbqcd\n"
          ]
        }
      ]
    }
  ]
}
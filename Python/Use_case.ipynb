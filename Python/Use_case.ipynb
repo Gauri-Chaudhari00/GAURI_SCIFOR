{
  "nbformat": 4,
  "nbformat_minor": 0,
  "metadata": {
    "colab": {
      "provenance": []
    },
    "kernelspec": {
      "name": "python3",
      "display_name": "Python 3"
    },
    "language_info": {
      "name": "python"
    }
  },
  "cells": [
    {
      "cell_type": "code",
      "source": [
        "class Bank:\n",
        "    def __init__(self, pin, balance=0):\n",
        "        self.pin = pin\n",
        "        self.balance = balance\n",
        "\n",
        "    def verify_pin(self, entered_pin):\n",
        "        return entered_pin == self.pin\n",
        "\n",
        "    def deposit(self, amount, pin):\n",
        "        if self.verify_pin(pin):\n",
        "            self.balance += amount\n",
        "            print(f\"Deposited: Rs{amount}. New balance: Rs{self.balance}\")\n",
        "        else:\n",
        "            print(\"Invalid ATM pin.\")\n",
        "\n",
        "    def withdraw(self, amount, pin):\n",
        "        if self.verify_pin(pin):\n",
        "            if amount <= self.balance:\n",
        "                self.balance -= amount\n",
        "                print(f\"Withdrew: Rs{amount}. New balance: Rs{self.balance}\")\n",
        "            else:\n",
        "                print(\"Insufficient amount. Withdrawal failed.\")\n",
        "        else:\n",
        "            print(\"Invalid ATM pin.\")\n",
        "\n",
        "def main():\n",
        "    balance = float(input(\"Enter the initial balance: \"))\n",
        "    pin = int(input(\"Set your ATM pin: \"))\n",
        "\n",
        "    account = Bank( pin, balance=0)\n",
        "\n",
        "    while True:\n",
        "        print(\"\\nChoose an option:\")\n",
        "        print(\"1. Withdraw\")\n",
        "        print(\"2. Deposit\")\n",
        "        print(\"3. Exit\")\n",
        "        choice = int(input(\"Enter your choice: \"))\n",
        "\n",
        "        if choice == 1:\n",
        "            amount = float(input(\"Enter the amount to withdraw: \"))\n",
        "            pin = int(input(\"Enter your ATM pin: \"))\n",
        "            account.withdraw(amount, pin)\n",
        "        elif choice == 2:\n",
        "            amount = float(input(\"Enter the amount to deposit: \"))\n",
        "            pin = int(input(\"Enter your ATM pin: \"))\n",
        "            account.deposit(amount, pin)\n",
        "        elif choice == 3:\n",
        "            print(\"Thank you for using the bank.\")\n",
        "            break\n",
        "        else:\n",
        "            print(\"Invalid choice. Please try again.\")\n",
        "if __name__ == \"__main__\":\n",
        "    main()\n"
      ],
      "metadata": {
        "colab": {
          "base_uri": "https://localhost:8080/"
        },
        "id": "67CcLFmldhR-",
        "outputId": "6dba0b84-1a9d-4f7d-a85b-0014a3202af2"
      },
      "execution_count": null,
      "outputs": [
        {
          "output_type": "stream",
          "name": "stdout",
          "text": [
            "Enter the initial balance: 1000\n",
            "Set your ATM pin: 12365\n",
            "\n",
            "Choose an option:\n",
            "1. Withdraw\n",
            "2. Deposit\n",
            "3. Exit\n",
            "Enter your choice: 2\n",
            "Enter the amount to deposit: 120\n",
            "Enter your ATM pin: 12365\n",
            "Deposited: Rs120.0. New balance: Rs120.0\n",
            "\n",
            "Choose an option:\n",
            "1. Withdraw\n",
            "2. Deposit\n",
            "3. Exit\n"
          ]
        }
      ]
    }
  ]
}